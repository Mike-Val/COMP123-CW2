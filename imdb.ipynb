{
 "cells": [
  {
   "cell_type": "code",
   "execution_count": 1,
   "metadata": {},
   "outputs": [],
   "source": [
    "import numpy as np\n",
    "import networkx as nx\n",
    "import matplotlib.pyplot as plt\n",
    "import json\n",
    "from dotmap import DotMap\n",
    "import pandas as pd\n",
    "from tqdm import tqdm\n",
    "\n",
    "%config InlineBackend.figure_format = 'retina'\n",
    "\n",
    "# https://www.kaggle.com/datasets/ruchi798/star-wars"
   ]
  },
  {
   "cell_type": "code",
   "execution_count": 2,
   "metadata": {},
   "outputs": [
    {
     "name": "stderr",
     "output_type": "stream",
     "text": [
      "/var/folders/l_/vnq08k4n0hn498fyp2mcvcsm0000gn/T/ipykernel_51009/32286324.py:1: DtypeWarning: Columns (4) have mixed types. Specify dtype option on import or set low_memory=False.\n",
      "  raw_movies = pd.read_csv('data/imdb/title.basic.tsv', sep='\\t')\n"
     ]
    },
    {
     "ename": "ParserError",
     "evalue": "Error tokenizing data. C error: Calling read(nbytes) on source failed. Try engine='python'.",
     "output_type": "error",
     "traceback": [
      "\u001b[0;31m---------------------------------------------------------------------------\u001b[0m",
      "\u001b[0;31mParserError\u001b[0m                               Traceback (most recent call last)",
      "\u001b[1;32m/Users/mike/star wars/imdb.ipynb Cell 2\u001b[0m in \u001b[0;36m<cell line: 2>\u001b[0;34m()\u001b[0m\n\u001b[1;32m      <a href='vscode-notebook-cell:/Users/mike/star%20wars/imdb.ipynb#W1sZmlsZQ%3D%3D?line=0'>1</a>\u001b[0m raw_movies \u001b[39m=\u001b[39m pd\u001b[39m.\u001b[39mread_csv(\u001b[39m'\u001b[39m\u001b[39mdata/imdb/title.basic.tsv\u001b[39m\u001b[39m'\u001b[39m, sep\u001b[39m=\u001b[39m\u001b[39m'\u001b[39m\u001b[39m\\t\u001b[39;00m\u001b[39m'\u001b[39m)\n\u001b[0;32m----> <a href='vscode-notebook-cell:/Users/mike/star%20wars/imdb.ipynb#W1sZmlsZQ%3D%3D?line=1'>2</a>\u001b[0m raw_actors \u001b[39m=\u001b[39m pd\u001b[39m.\u001b[39;49mread_csv(\u001b[39m'\u001b[39;49m\u001b[39mdata/imdb/name.basics.tsv\u001b[39;49m\u001b[39m'\u001b[39;49m, sep\u001b[39m=\u001b[39;49m\u001b[39m'\u001b[39;49m\u001b[39m\\t\u001b[39;49;00m\u001b[39m'\u001b[39;49m)\n\u001b[1;32m      <a href='vscode-notebook-cell:/Users/mike/star%20wars/imdb.ipynb#W1sZmlsZQ%3D%3D?line=2'>3</a>\u001b[0m raw_starring \u001b[39m=\u001b[39m pd\u001b[39m.\u001b[39mread_csv(\u001b[39m'\u001b[39m\u001b[39mdata/imdb/title.principals.tsv\u001b[39m\u001b[39m'\u001b[39m, sep\u001b[39m=\u001b[39m\u001b[39m'\u001b[39m\u001b[39m\\t\u001b[39;00m\u001b[39m'\u001b[39m)\n",
      "File \u001b[0;32m~/.pyenv/versions/3.10.2/envs/dev/lib/python3.10/site-packages/pandas/util/_decorators.py:311\u001b[0m, in \u001b[0;36mdeprecate_nonkeyword_arguments.<locals>.decorate.<locals>.wrapper\u001b[0;34m(*args, **kwargs)\u001b[0m\n\u001b[1;32m    305\u001b[0m \u001b[39mif\u001b[39;00m \u001b[39mlen\u001b[39m(args) \u001b[39m>\u001b[39m num_allow_args:\n\u001b[1;32m    306\u001b[0m     warnings\u001b[39m.\u001b[39mwarn(\n\u001b[1;32m    307\u001b[0m         msg\u001b[39m.\u001b[39mformat(arguments\u001b[39m=\u001b[39marguments),\n\u001b[1;32m    308\u001b[0m         \u001b[39mFutureWarning\u001b[39;00m,\n\u001b[1;32m    309\u001b[0m         stacklevel\u001b[39m=\u001b[39mstacklevel,\n\u001b[1;32m    310\u001b[0m     )\n\u001b[0;32m--> 311\u001b[0m \u001b[39mreturn\u001b[39;00m func(\u001b[39m*\u001b[39;49margs, \u001b[39m*\u001b[39;49m\u001b[39m*\u001b[39;49mkwargs)\n",
      "File \u001b[0;32m~/.pyenv/versions/3.10.2/envs/dev/lib/python3.10/site-packages/pandas/io/parsers/readers.py:680\u001b[0m, in \u001b[0;36mread_csv\u001b[0;34m(filepath_or_buffer, sep, delimiter, header, names, index_col, usecols, squeeze, prefix, mangle_dupe_cols, dtype, engine, converters, true_values, false_values, skipinitialspace, skiprows, skipfooter, nrows, na_values, keep_default_na, na_filter, verbose, skip_blank_lines, parse_dates, infer_datetime_format, keep_date_col, date_parser, dayfirst, cache_dates, iterator, chunksize, compression, thousands, decimal, lineterminator, quotechar, quoting, doublequote, escapechar, comment, encoding, encoding_errors, dialect, error_bad_lines, warn_bad_lines, on_bad_lines, delim_whitespace, low_memory, memory_map, float_precision, storage_options)\u001b[0m\n\u001b[1;32m    665\u001b[0m kwds_defaults \u001b[39m=\u001b[39m _refine_defaults_read(\n\u001b[1;32m    666\u001b[0m     dialect,\n\u001b[1;32m    667\u001b[0m     delimiter,\n\u001b[0;32m   (...)\u001b[0m\n\u001b[1;32m    676\u001b[0m     defaults\u001b[39m=\u001b[39m{\u001b[39m\"\u001b[39m\u001b[39mdelimiter\u001b[39m\u001b[39m\"\u001b[39m: \u001b[39m\"\u001b[39m\u001b[39m,\u001b[39m\u001b[39m\"\u001b[39m},\n\u001b[1;32m    677\u001b[0m )\n\u001b[1;32m    678\u001b[0m kwds\u001b[39m.\u001b[39mupdate(kwds_defaults)\n\u001b[0;32m--> 680\u001b[0m \u001b[39mreturn\u001b[39;00m _read(filepath_or_buffer, kwds)\n",
      "File \u001b[0;32m~/.pyenv/versions/3.10.2/envs/dev/lib/python3.10/site-packages/pandas/io/parsers/readers.py:581\u001b[0m, in \u001b[0;36m_read\u001b[0;34m(filepath_or_buffer, kwds)\u001b[0m\n\u001b[1;32m    578\u001b[0m     \u001b[39mreturn\u001b[39;00m parser\n\u001b[1;32m    580\u001b[0m \u001b[39mwith\u001b[39;00m parser:\n\u001b[0;32m--> 581\u001b[0m     \u001b[39mreturn\u001b[39;00m parser\u001b[39m.\u001b[39;49mread(nrows)\n",
      "File \u001b[0;32m~/.pyenv/versions/3.10.2/envs/dev/lib/python3.10/site-packages/pandas/io/parsers/readers.py:1250\u001b[0m, in \u001b[0;36mTextFileReader.read\u001b[0;34m(self, nrows)\u001b[0m\n\u001b[1;32m   1248\u001b[0m nrows \u001b[39m=\u001b[39m validate_integer(\u001b[39m\"\u001b[39m\u001b[39mnrows\u001b[39m\u001b[39m\"\u001b[39m, nrows)\n\u001b[1;32m   1249\u001b[0m \u001b[39mtry\u001b[39;00m:\n\u001b[0;32m-> 1250\u001b[0m     index, columns, col_dict \u001b[39m=\u001b[39m \u001b[39mself\u001b[39;49m\u001b[39m.\u001b[39;49m_engine\u001b[39m.\u001b[39;49mread(nrows)\n\u001b[1;32m   1251\u001b[0m \u001b[39mexcept\u001b[39;00m \u001b[39mException\u001b[39;00m:\n\u001b[1;32m   1252\u001b[0m     \u001b[39mself\u001b[39m\u001b[39m.\u001b[39mclose()\n",
      "File \u001b[0;32m~/.pyenv/versions/3.10.2/envs/dev/lib/python3.10/site-packages/pandas/io/parsers/c_parser_wrapper.py:225\u001b[0m, in \u001b[0;36mCParserWrapper.read\u001b[0;34m(self, nrows)\u001b[0m\n\u001b[1;32m    223\u001b[0m \u001b[39mtry\u001b[39;00m:\n\u001b[1;32m    224\u001b[0m     \u001b[39mif\u001b[39;00m \u001b[39mself\u001b[39m\u001b[39m.\u001b[39mlow_memory:\n\u001b[0;32m--> 225\u001b[0m         chunks \u001b[39m=\u001b[39m \u001b[39mself\u001b[39;49m\u001b[39m.\u001b[39;49m_reader\u001b[39m.\u001b[39;49mread_low_memory(nrows)\n\u001b[1;32m    226\u001b[0m         \u001b[39m# destructive to chunks\u001b[39;00m\n\u001b[1;32m    227\u001b[0m         data \u001b[39m=\u001b[39m _concatenate_chunks(chunks)\n",
      "File \u001b[0;32m~/.pyenv/versions/3.10.2/envs/dev/lib/python3.10/site-packages/pandas/_libs/parsers.pyx:805\u001b[0m, in \u001b[0;36mpandas._libs.parsers.TextReader.read_low_memory\u001b[0;34m()\u001b[0m\n",
      "File \u001b[0;32m~/.pyenv/versions/3.10.2/envs/dev/lib/python3.10/site-packages/pandas/_libs/parsers.pyx:861\u001b[0m, in \u001b[0;36mpandas._libs.parsers.TextReader._read_rows\u001b[0;34m()\u001b[0m\n",
      "File \u001b[0;32m~/.pyenv/versions/3.10.2/envs/dev/lib/python3.10/site-packages/pandas/_libs/parsers.pyx:847\u001b[0m, in \u001b[0;36mpandas._libs.parsers.TextReader._tokenize_rows\u001b[0;34m()\u001b[0m\n",
      "File \u001b[0;32m~/.pyenv/versions/3.10.2/envs/dev/lib/python3.10/site-packages/pandas/_libs/parsers.pyx:1960\u001b[0m, in \u001b[0;36mpandas._libs.parsers.raise_parser_error\u001b[0;34m()\u001b[0m\n",
      "\u001b[0;31mParserError\u001b[0m: Error tokenizing data. C error: Calling read(nbytes) on source failed. Try engine='python'."
     ]
    }
   ],
   "source": [
    "raw_movies = pd.read_csv('data/imdb/title.basic.tsv', sep='\\t')\n",
    "raw_actors = pd.read_csv('data/imdb/name.basics.tsv', sep='\\t')\n",
    "raw_starring = pd.read_csv('data/imdb/title.principals.tsv', sep='\\t')"
   ]
  },
  {
   "cell_type": "code",
   "execution_count": null,
   "metadata": {},
   "outputs": [],
   "source": [
    "episode_year = {\n",
    "    '1': 1999,\n",
    "    '2': 2002,\n",
    "    '3': 2005,\n",
    "    '4': 1977,\n",
    "    '5': 1980,\n",
    "    '6': 1983,\n",
    "    '7': 2015,\n",
    "}\n",
    "\n",
    "episode_to_titleId = {\n",
    "    '1': 'tt0120915',\n",
    "    '2': 'tt0121765',\n",
    "    '3': 'tt0121766',\n",
    "    '4': 'tt0076759',\n",
    "    '5': 'tt0080684',\n",
    "    '6': 'tt0086190',\n",
    "    '7': 'tt2488496',\n",
    "}\n",
    "\n",
    "episode = '1'\n",
    "year = episode_year[episode]"
   ]
  },
  {
   "cell_type": "code",
   "execution_count": null,
   "metadata": {},
   "outputs": [
    {
     "name": "stderr",
     "output_type": "stream",
     "text": [
      "/var/folders/l_/vnq08k4n0hn498fyp2mcvcsm0000gn/T/ipykernel_94267/1284108016.py:2: SettingWithCopyWarning: \n",
      "A value is trying to be set on a copy of a slice from a DataFrame.\n",
      "Try using .loc[row_indexer,col_indexer] = value instead\n",
      "\n",
      "See the caveats in the documentation: https://pandas.pydata.org/pandas-docs/stable/user_guide/indexing.html#returning-a-view-versus-a-copy\n",
      "  movies['startYear'] = movies['startYear'].astype(int)\n"
     ]
    }
   ],
   "source": [
    "movies = raw_movies[raw_movies['startYear'] != '\\\\N']\n",
    "movies['startYear'] = movies['startYear'].astype(int)\n",
    "movies = movies[(movies['startYear'] <= year) & (movies['startYear'] >= 1960)]"
   ]
  },
  {
   "cell_type": "code",
   "execution_count": null,
   "metadata": {},
   "outputs": [],
   "source": [
    "starring = raw_starring[raw_starring['category'].isin(['actor', 'actress'])]\n",
    "starring = starring[starring['tconst'].isin(movies['tconst'])]"
   ]
  },
  {
   "cell_type": "code",
   "execution_count": null,
   "metadata": {},
   "outputs": [],
   "source": [
    "# Group the rows from starring by tcconst and collect all the nconsts in a list\n",
    "# Only keep the columns tconst and nconst\n",
    "\n",
    "collabs = starring.groupby('tconst')['nconst'].apply(list).reset_index()"
   ]
  },
  {
   "cell_type": "code",
   "execution_count": null,
   "metadata": {},
   "outputs": [
    {
     "name": "stderr",
     "output_type": "stream",
     "text": [
      "100%|██████████| 990261/990261 [01:05<00:00, 15176.80it/s]\n"
     ]
    }
   ],
   "source": [
    "from itertools import combinations\n",
    "\n",
    "G = nx.Graph()\n",
    "\n",
    "for i, row in tqdm(collabs.iterrows(), total=len(collabs)):\n",
    "    for a, b in combinations(row['nconst'], 2):\n",
    "        G.add_edge(a, b, weight=1)"
   ]
  },
  {
   "cell_type": "code",
   "execution_count": null,
   "metadata": {},
   "outputs": [],
   "source": [
    "# Find the largest connected component\n",
    "\n",
    "G = G.subgraph(max(nx.connected_components(G), key=len))"
   ]
  },
  {
   "cell_type": "code",
   "execution_count": null,
   "metadata": {},
   "outputs": [
    {
     "name": "stderr",
     "output_type": "stream",
     "text": [
      "/var/folders/l_/vnq08k4n0hn498fyp2mcvcsm0000gn/T/ipykernel_94267/1064119803.py:1: DeprecationWarning: info is deprecated and will be removed in version 3.0.\n",
      "\n",
      "  nx.info(G)\n"
     ]
    },
    {
     "data": {
      "text/plain": [
       "'Graph with 361335 nodes and 4012596 edges'"
      ]
     },
     "execution_count": 66,
     "metadata": {},
     "output_type": "execute_result"
    }
   ],
   "source": [
    "nx.info(G)"
   ]
  },
  {
   "cell_type": "code",
   "execution_count": null,
   "metadata": {},
   "outputs": [
    {
     "data": {
      "image/png": "[encoded data removed]",
      "text/plain": [
       "<Figure size 720x432 with 1 Axes>"
      ]
     },
     "metadata": {
      "image/png": {
       "height": 372,
       "width": 610
      },
      "needs_background": "light"
     },
     "output_type": "display_data"
    }
   ],
   "source": [
    "# Plot the degree distribution\n",
    "\n",
    "degrees = np.unique(sorted([d for n, d in G.degree()]), return_counts=True)\n",
    "\n",
    "plt.figure(figsize=(10, 6))\n",
    "plt.loglog(degrees[0], degrees[1], '.')\n",
    "# Plot a lines with slope -3 and y-intercept 1e6\n",
    "plt.loglog(degrees[0], 4e5 / degrees[0]**(1.6), '--')\n",
    "plt.xlabel('Degree')\n",
    "plt.ylabel('Count')\n",
    "plt.show()"
   ]
  },
  {
   "cell_type": "code",
   "execution_count": null,
   "metadata": {},
   "outputs": [
    {
     "data": {
      "text/html": [
       "<div>\n",
       "<style scoped>\n",
       "    .dataframe tbody tr th:only-of-type {\n",
       "        vertical-align: middle;\n",
       "    }\n",
       "\n",
       "    .dataframe tbody tr th {\n",
       "        vertical-align: top;\n",
       "    }\n",
       "\n",
       "    .dataframe thead th {\n",
       "        text-align: right;\n",
       "    }\n",
       "</style>\n",
       "<table border=\"1\" class=\"dataframe\">\n",
       "  <thead>\n",
       "    <tr style=\"text-align: right;\">\n",
       "      <th></th>\n",
       "      <th>nconst</th>\n",
       "      <th>primaryName</th>\n",
       "      <th>birthYear</th>\n",
       "      <th>deathYear</th>\n",
       "      <th>primaryProfession</th>\n",
       "      <th>knownForTitles</th>\n",
       "    </tr>\n",
       "  </thead>\n",
       "  <tbody>\n",
       "    <tr>\n",
       "      <th>464</th>\n",
       "      <td>nm0000465</td>\n",
       "      <td>Ron Jeremy</td>\n",
       "      <td>1953</td>\n",
       "      <td>\\N</td>\n",
       "      <td>actor,director,writer</td>\n",
       "      <td>tt0120577,tt0165710,tt0124819,tt0144117</td>\n",
       "    </tr>\n",
       "    <tr>\n",
       "      <th>560</th>\n",
       "      <td>nm0000561</td>\n",
       "      <td>Peter North</td>\n",
       "      <td>1957</td>\n",
       "      <td>\\N</td>\n",
       "      <td>actor,director,producer</td>\n",
       "      <td>tt0128316,tt0160323,tt0199096,tt0183057</td>\n",
       "    </tr>\n",
       "    <tr>\n",
       "      <th>998</th>\n",
       "      <td>nm0001000</td>\n",
       "      <td>Tom Byron</td>\n",
       "      <td>1961</td>\n",
       "      <td>\\N</td>\n",
       "      <td>actor,director,producer</td>\n",
       "      <td>tt0151056,tt0097039,tt0178845,tt2059288</td>\n",
       "    </tr>\n",
       "    <tr>\n",
       "      <th>96862</th>\n",
       "      <td>nm0101570</td>\n",
       "      <td>T.T. Boy</td>\n",
       "      <td>1968</td>\n",
       "      <td>\\N</td>\n",
       "      <td>actor,director,producer</td>\n",
       "      <td>tt2090472,tt0123532,tt0123632,tt0389276</td>\n",
       "    </tr>\n",
       "    <tr>\n",
       "      <th>122667</th>\n",
       "      <td>nm0128880</td>\n",
       "      <td>Sharon Kane</td>\n",
       "      <td>1956</td>\n",
       "      <td>\\N</td>\n",
       "      <td>actress,miscellaneous,composer</td>\n",
       "      <td>tt1161967,tt0290610,tt0183889,tt0284080</td>\n",
       "    </tr>\n",
       "    <tr>\n",
       "      <th>130391</th>\n",
       "      <td>nm0136994</td>\n",
       "      <td>Macdonald Carey</td>\n",
       "      <td>1913</td>\n",
       "      <td>1994</td>\n",
       "      <td>actor,soundtrack</td>\n",
       "      <td>tt0058796,tt0039873,tt0036342,tt0043736</td>\n",
       "    </tr>\n",
       "    <tr>\n",
       "      <th>156587</th>\n",
       "      <td>nm0164818</td>\n",
       "      <td>John Clarke</td>\n",
       "      <td>1931</td>\n",
       "      <td>2019</td>\n",
       "      <td>actor</td>\n",
       "      <td>tt0078622,tt0044259,tt0058796,tt0059678</td>\n",
       "    </tr>\n",
       "    <tr>\n",
       "      <th>241571</th>\n",
       "      <td>nm0254884</td>\n",
       "      <td>James Ellis</td>\n",
       "      <td>1931</td>\n",
       "      <td>2014</td>\n",
       "      <td>actor,writer</td>\n",
       "      <td>tt0129723,tt0144728,tt0098874,tt0308129</td>\n",
       "    </tr>\n",
       "    <tr>\n",
       "      <th>258843</th>\n",
       "      <td>nm0273077</td>\n",
       "      <td>Don Fernando</td>\n",
       "      <td>1948</td>\n",
       "      <td>\\N</td>\n",
       "      <td>actor,director,producer</td>\n",
       "      <td>tt0134898,tt0271377,tt1067061,tt6536650</td>\n",
       "    </tr>\n",
       "    <tr>\n",
       "      <th>342992</th>\n",
       "      <td>nm0362443</td>\n",
       "      <td>Dave Hardman</td>\n",
       "      <td>1960</td>\n",
       "      <td>\\N</td>\n",
       "      <td>actor,director</td>\n",
       "      <td>tt1556937,tt0234453,tt0408125,tt0280887</td>\n",
       "    </tr>\n",
       "  </tbody>\n",
       "</table>\n",
       "</div>"
      ],
      "text/plain": [
       "           nconst      primaryName birthYear deathYear  \\\n",
       "464     nm0000465       Ron Jeremy      1953        \\N   \n",
       "560     nm0000561      Peter North      1957        \\N   \n",
       "998     nm0001000        Tom Byron      1961        \\N   \n",
       "96862   nm0101570         T.T. Boy      1968        \\N   \n",
       "122667  nm0128880      Sharon Kane      1956        \\N   \n",
       "130391  nm0136994  Macdonald Carey      1913      1994   \n",
       "156587  nm0164818      John Clarke      1931      2019   \n",
       "241571  nm0254884      James Ellis      1931      2014   \n",
       "258843  nm0273077     Don Fernando      1948        \\N   \n",
       "342992  nm0362443     Dave Hardman      1960        \\N   \n",
       "\n",
       "                     primaryProfession  \\\n",
       "464              actor,director,writer   \n",
       "560            actor,director,producer   \n",
       "998            actor,director,producer   \n",
       "96862          actor,director,producer   \n",
       "122667  actress,miscellaneous,composer   \n",
       "130391                actor,soundtrack   \n",
       "156587                           actor   \n",
       "241571                    actor,writer   \n",
       "258843         actor,director,producer   \n",
       "342992                  actor,director   \n",
       "\n",
       "                                 knownForTitles  \n",
       "464     tt0120577,tt0165710,tt0124819,tt0144117  \n",
       "560     tt0128316,tt0160323,tt0199096,tt0183057  \n",
       "998     tt0151056,tt0097039,tt0178845,tt2059288  \n",
       "96862   tt2090472,tt0123532,tt0123632,tt0389276  \n",
       "122667  tt1161967,tt0290610,tt0183889,tt0284080  \n",
       "130391  tt0058796,tt0039873,tt0036342,tt0043736  \n",
       "156587  tt0078622,tt0044259,tt0058796,tt0059678  \n",
       "241571  tt0129723,tt0144728,tt0098874,tt0308129  \n",
       "258843  tt0134898,tt0271377,tt1067061,tt6536650  \n",
       "342992  tt1556937,tt0234453,tt0408125,tt0280887  "
      ]
     },
     "execution_count": 64,
     "metadata": {},
     "output_type": "execute_result"
    }
   ],
   "source": [
    "# Print the top 10 most connected actors\n",
    "\n",
    "raw_actors[raw_actors['nconst'].isin([a for a, d in sorted(G.degree, key=lambda x: x[1], reverse=True)[:10]])]"
   ]
  },
  {
   "cell_type": "code",
   "execution_count": null,
   "metadata": {},
   "outputs": [
    {
     "data": {
      "text/html": [
       "<div>\n",
       "<style scoped>\n",
       "    .dataframe tbody tr th:only-of-type {\n",
       "        vertical-align: middle;\n",
       "    }\n",
       "\n",
       "    .dataframe tbody tr th {\n",
       "        vertical-align: top;\n",
       "    }\n",
       "\n",
       "    .dataframe thead th {\n",
       "        text-align: right;\n",
       "    }\n",
       "</style>\n",
       "<table border=\"1\" class=\"dataframe\">\n",
       "  <thead>\n",
       "    <tr style=\"text-align: right;\">\n",
       "      <th></th>\n",
       "      <th>nconst</th>\n",
       "      <th>primaryName</th>\n",
       "      <th>birthYear</th>\n",
       "      <th>deathYear</th>\n",
       "      <th>primaryProfession</th>\n",
       "      <th>knownForTitles</th>\n",
       "    </tr>\n",
       "  </thead>\n",
       "  <tbody>\n",
       "    <tr>\n",
       "      <th>190</th>\n",
       "      <td>nm0000191</td>\n",
       "      <td>Ewan McGregor</td>\n",
       "      <td>1971</td>\n",
       "      <td>\\N</td>\n",
       "      <td>actor,writer,producer</td>\n",
       "      <td>tt2763304,tt0117951,tt0203009,tt1322269</td>\n",
       "    </tr>\n",
       "    <tr>\n",
       "      <th>203</th>\n",
       "      <td>nm0000204</td>\n",
       "      <td>Natalie Portman</td>\n",
       "      <td>1981</td>\n",
       "      <td>\\N</td>\n",
       "      <td>actress,producer,soundtrack</td>\n",
       "      <td>tt0376541,tt0434409,tt0110413,tt0947798</td>\n",
       "    </tr>\n",
       "    <tr>\n",
       "      <th>552</th>\n",
       "      <td>nm0000553</td>\n",
       "      <td>Liam Neeson</td>\n",
       "      <td>1952</td>\n",
       "      <td>\\N</td>\n",
       "      <td>actor,producer,soundtrack</td>\n",
       "      <td>tt0429493,tt0362269,tt0108052,tt1601913</td>\n",
       "    </tr>\n",
       "    <tr>\n",
       "      <th>5131</th>\n",
       "      <td>nm0005157</td>\n",
       "      <td>Jake Lloyd</td>\n",
       "      <td>1989</td>\n",
       "      <td>\\N</td>\n",
       "      <td>actor,miscellaneous</td>\n",
       "      <td>tt0120915,tt0116705,tt0200172,tt0206113</td>\n",
       "    </tr>\n",
       "  </tbody>\n",
       "</table>\n",
       "</div>"
      ],
      "text/plain": [
       "         nconst      primaryName birthYear deathYear  \\\n",
       "190   nm0000191    Ewan McGregor      1971        \\N   \n",
       "203   nm0000204  Natalie Portman      1981        \\N   \n",
       "552   nm0000553      Liam Neeson      1952        \\N   \n",
       "5131  nm0005157       Jake Lloyd      1989        \\N   \n",
       "\n",
       "                primaryProfession                           knownForTitles  \n",
       "190         actor,writer,producer  tt2763304,tt0117951,tt0203009,tt1322269  \n",
       "203   actress,producer,soundtrack  tt0376541,tt0434409,tt0110413,tt0947798  \n",
       "552     actor,producer,soundtrack  tt0429493,tt0362269,tt0108052,tt1601913  \n",
       "5131          actor,miscellaneous  tt0120915,tt0116705,tt0200172,tt0206113  "
      ]
     },
     "execution_count": 65,
     "metadata": {},
     "output_type": "execute_result"
    }
   ],
   "source": [
    "# Get all the actors in the episode\n",
    "\n",
    "episode_actors = starring[starring['tconst'] == episode_to_titleId[episode]]['nconst'].unique()\n",
    "raw_actors[raw_actors['nconst'].isin(episode_actors)]"
   ]
  },
  {
   "cell_type": "code",
   "execution_count": null,
   "metadata": {},
   "outputs": [],
   "source": []
  }
 ],
 "metadata": {
  "kernelspec": {
   "display_name": "dev",
   "language": "python",
   "name": "python3"
  },
  "language_info": {
   "codemirror_mode": {
    "name": "ipython",
    "version": 3
   },
   "file_extension": ".py",
   "mimetype": "text/x-python",
   "name": "python",
   "nbconvert_exporter": "python",
   "pygments_lexer": "ipython3",
   "version": "3.10.2"
  },
  "orig_nbformat": 4,
  "vscode": {
   "interpreter": {
    "hash": "56c834e9f2f29bf928851a9e21c258c5f911f60c6786dcefca87fe83f9ef38b3"
   }
  }
 },
 "nbformat": 4,
 "nbformat_minor": 2
}
