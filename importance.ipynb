{
 "cells": [
  {
   "cell_type": "code",
   "execution_count": 1,
   "metadata": {},
   "outputs": [],
   "source": [
    "import numpy as np\n",
    "import networkx as nx\n",
    "import matplotlib.pyplot as plt\n",
    "import json\n",
    "from dotmap import DotMap\n",
    "import pandas as pd\n",
    "from tqdm.notebook import tqdm\n",
    "\n",
    "%config InlineBackend.figure_format = 'retina'\n",
    "\n",
    "# https://www.kaggle.com/datasets/ruchi798/star-wars"
   ]
  },
  {
   "cell_type": "code",
   "execution_count": 2,
   "metadata": {},
   "outputs": [],
   "source": [
    "episodes = []\n",
    "factions = []\n",
    "for i in range(1, 8):\n",
    "    with open(f'data/interactions/starwars-episode-{i}-interactions-allCharacters.json') as f:\n",
    "        episodes.append(DotMap(json.load(f)))\n",
    "    try:\n",
    "        with open(f'data/factions/factions_{i}.json') as f:\n",
    "            factions.append(json.load(f))\n",
    "    except:\n",
    "        factions.append({})\n",
    "\n",
    "outcomes = []\n",
    "with open('data/outcomes.json') as f:\n",
    "    outcomes = json.load(f)\n",
    "    outcomes = [v for k, v in outcomes.items()]"
   ]
  },
  {
   "cell_type": "code",
   "execution_count": 3,
   "metadata": {},
   "outputs": [],
   "source": [
    "name_mappings = []\n",
    "\n",
    "for i in range(1, 8):\n",
    "    with open(f'data/characters_mapping/episode_{i}.json') as f:\n",
    "        name_mappings.append(DotMap(json.load(f)))"
   ]
  },
  {
   "cell_type": "code",
   "execution_count": 4,
   "metadata": {},
   "outputs": [
    {
     "name": "stdout",
     "output_type": "stream",
     "text": [
      "['PK-4']\n",
      "['PK-4']\n",
      "[]\n",
      "[]\n",
      "[]\n",
      "[]\n",
      "[]\n"
     ]
    }
   ],
   "source": [
    "networks = []\n",
    "for i, episode in enumerate(episodes):\n",
    "    G = nx.Graph()\n",
    "    to_remove = []\n",
    "    for node in episode.nodes:\n",
    "        if len(factions[i]) > 0:\n",
    "            if node.name in factions[i]['bad']:\n",
    "                faction = 'bad'\n",
    "            elif node.name in factions[i]['good']:\n",
    "                faction = 'good'\n",
    "            elif node.name in factions[i]['neutral']:\n",
    "                faction = 'neutral'\n",
    "            elif node.name in factions[i]['remove']:\n",
    "                to_remove.append(node.name)\n",
    "            else:\n",
    "                raise Exception(f'Unknown faction for {node.name}')\n",
    "        # if name_mappings[i].get(node.name, '') == '':\n",
    "        #     to_remove.append(node.name)\n",
    "        G.add_node(node.name, value=node.value, color=node.colour, faction=faction)\n",
    "    for link in episode.links:\n",
    "        G.add_edge((nl:=list(G.nodes))[link.source], nl[link.target], weight=link.value)\n",
    "    for node in to_remove:\n",
    "        if node in G.nodes:\n",
    "            G.remove_node(node)\n",
    "    G = nx.subgraph(G, max(nx.connected_components(G), key=len))\n",
    "    networks.append(G)\n",
    "    print(to_remove)"
   ]
  },
  {
   "cell_type": "code",
   "execution_count": 5,
   "metadata": {},
   "outputs": [],
   "source": [
    "faction_to_color = {\n",
    "    'bad' : 'tab:red',\n",
    "    'good' : 'tab:blue',\n",
    "    'neutral' : 'tab:green',\n",
    "}"
   ]
  },
  {
   "cell_type": "code",
   "execution_count": 6,
   "metadata": {},
   "outputs": [],
   "source": [
    "stats = pd.DataFrame(columns=['episode'])\n",
    "stats.set_index('episode', inplace=True)\n",
    "\n",
    "def get_stats(G):\n",
    "    return {\n",
    "        'nodes': len(G.nodes),\n",
    "        'edges': len(G.edges),\n",
    "        'density': nx.density(G),\n",
    "        'avg_degree': np.mean([degree for node, degree in G.degree]),\n",
    "        'connectivity': nx.average_node_connectivity(G),\n",
    "        'diameter': nx.diameter(G),\n",
    "        'assortativity': nx.degree_pearson_correlation_coefficient(G),\n",
    "        'efficiency': nx.global_efficiency(G),\n",
    "        'avg_betweenness_centrality': np.mean([nx.betweenness_centrality(G)[node] for node in G.nodes]),\n",
    "        'avg_closeness_centrality': np.mean([nx.closeness_centrality(G)[node] for node in G.nodes]),\n",
    "        'avg_second_order_degree_centrality': np.mean([nx.second_order_centrality(G)[node] for node in G.nodes]),\n",
    "        'cliques': nx.graph_number_of_cliques(G),\n",
    "        'avg_clustering': nx.average_clustering(G),\n",
    "        'mean_rich_club_coefficient': np.mean([v for d, v in nx.rich_club_coefficient(G, normalized=False).items()]),\n",
    "        'avg_shortest_path_length': nx.average_shortest_path_length(G),\n",
    "    }\n",
    "\n",
    "for i, G in enumerate(networks):\n",
    "    stats.loc[i+1, 'outcome'] = outcomes[i]\n",
    "    \n",
    "    for stat, value in get_stats(G).items():\n",
    "        stats.loc[i+1, f'{stat}'] = value\n",
    "    \n",
    "    # Reorganize the columns such that the same stats are next to each other\n",
    "    stats = stats.reindex(columns=['outcome'] + sorted([c for c in stats.columns if not c == 'outcome'], key=lambda x: '_'.join(x.split('_')[1:])))\n",
    "\n",
    "    # Replace all NaNs with 0\n",
    "    stats = stats.fillna(0)\n",
    "\n",
    "# stats.to_csv('stats.csv')"
   ]
  },
  {
   "cell_type": "code",
   "execution_count": 7,
   "metadata": {},
   "outputs": [
    {
     "name": "stdout",
     "output_type": "stream",
     "text": [
      "      outcome  prediction  confidence\n",
      "Ep 1        1           1    0.999660\n",
      "Ep 2        1           1    0.991870\n",
      "Ep 3        0           0    0.989440\n",
      "Ep 4        1           1    0.999994\n",
      "Ep 5        0           0    0.999337\n",
      "Ep 6        1           1    0.990586\n",
      "Ep 7        1           1    1.000000\n",
      "\u001b[92mScore: 1.0\n"
     ]
    },
    {
     "name": "stderr",
     "output_type": "stream",
     "text": [
      "/var/folders/l_/vnq08k4n0hn498fyp2mcvcsm0000gn/T/ipykernel_30895/2652902370.py:38: UserWarning: FixedFormatter should only be used together with FixedLocator\n",
      "  ax.set_xticklabels(names, rotation=90)\n"
     ]
    },
    {
     "data": {
      "image/png": "[encoded data removed]",
      "text/plain": [
       "<Figure size 720x360 with 1 Axes>"
      ]
     },
     "metadata": {
      "image/png": {
       "height": 491,
       "width": 607
      },
      "needs_background": "light"
     },
     "output_type": "display_data"
    }
   ],
   "source": [
    "outcome_map = {\n",
    "    'good' : 1,\n",
    "    'bad' : 0,\n",
    "}\n",
    "\n",
    "X = np.array(stats.drop('outcome', axis=1).values)\n",
    "Y = stats['outcome'].map(outcome_map).values\n",
    "names = stats.columns[1:]\n",
    "\n",
    "\n",
    "# Construct a linear model and optimize with lasso regularization\n",
    "from sklearn.linear_model import Lasso, LinearRegression, LogisticRegression\n",
    "\n",
    "\n",
    "# Normalize the data\n",
    "from sklearn.preprocessing import StandardScaler\n",
    "scaler = StandardScaler()\n",
    "X = scaler.fit_transform(X)\n",
    "\n",
    "# model = Lasso(alpha=0., max_iter=100000, tol=1e-15)\n",
    "# model = LinearRegression(positive=True)\n",
    "model = LogisticRegression(penalty='none', solver='saga', max_iter=10000, tol=1e-4, random_state=42)\n",
    "model.fit(X, Y)\n",
    "\n",
    "# Print each outcome and its coefficient\n",
    "res = pd.DataFrame({'outcome': Y, 'prediction': model.predict(X)}, index=[f'Ep {i+1}' for i in range(len(Y))])\n",
    "if type(model) == LogisticRegression:\n",
    "    res['confidence'] = [p[stats['outcome'].map(outcome_map).values[i]] for i, p in enumerate(model.predict_proba(X))]\n",
    "print(res)\n",
    "color = '\\033[92m' if all((np.array(res['outcome']) > 0) == (np.array(res['prediction']) > 0)) else '\\033[91m'\n",
    "print(f'{color}Score: {model.score(X, Y)}')\n",
    "\n",
    "# Plot the coefficients\n",
    "fig, ax = plt.subplots(figsize=(10, 5))\n",
    "ax.bar(names, model.coef_[0] if type(model) == LogisticRegression else model.coef_)\n",
    "ax.set_xlabel('Feature')\n",
    "ax.set_ylabel('Weight')\n",
    "ax.set_xticklabels(names, rotation=90)\n",
    "ax.grid()\n",
    "plt.show()"
   ]
  },
  {
   "cell_type": "code",
   "execution_count": 8,
   "metadata": {},
   "outputs": [
    {
     "data": {
      "application/vnd.jupyter.widget-view+json": {
       "model_id": "e98c6ae7d6a4499ba27496bc8df50589",
       "version_major": 2,
       "version_minor": 0
      },
      "text/plain": [
       "  0%|          | 0/7 [00:00<?, ?it/s]"
      ]
     },
     "metadata": {},
     "output_type": "display_data"
    },
    {
     "data": {
      "application/vnd.jupyter.widget-view+json": {
       "model_id": "8f620f32b89f4ac9b5d7ad5eb86d21d2",
       "version_major": 2,
       "version_minor": 0
      },
      "text/plain": [
       "Ep 1:   0%|          | 0/37 [00:00<?, ?it/s]"
      ]
     },
     "metadata": {},
     "output_type": "display_data"
    },
    {
     "data": {
      "application/vnd.jupyter.widget-view+json": {
       "model_id": "78d40e1f44cf4401a5d13c7e7112fbbf",
       "version_major": 2,
       "version_minor": 0
      },
      "text/plain": [
       "Ep 2:   0%|          | 0/32 [00:00<?, ?it/s]"
      ]
     },
     "metadata": {},
     "output_type": "display_data"
    },
    {
     "data": {
      "application/vnd.jupyter.widget-view+json": {
       "model_id": "2a7ec0db8d7c426382faacccf0449a96",
       "version_major": 2,
       "version_minor": 0
      },
      "text/plain": [
       "Ep 3:   0%|          | 0/24 [00:00<?, ?it/s]"
      ]
     },
     "metadata": {},
     "output_type": "display_data"
    },
    {
     "data": {
      "application/vnd.jupyter.widget-view+json": {
       "model_id": "02e21eda711b47508b37c0050231a300",
       "version_major": 2,
       "version_minor": 0
      },
      "text/plain": [
       "Ep 4:   0%|          | 0/21 [00:00<?, ?it/s]"
      ]
     },
     "metadata": {},
     "output_type": "display_data"
    },
    {
     "data": {
      "application/vnd.jupyter.widget-view+json": {
       "model_id": "919c400434d64d608e00a4c24a521444",
       "version_major": 2,
       "version_minor": 0
      },
      "text/plain": [
       "Ep 5:   0%|          | 0/21 [00:00<?, ?it/s]"
      ]
     },
     "metadata": {},
     "output_type": "display_data"
    },
    {
     "data": {
      "application/vnd.jupyter.widget-view+json": {
       "model_id": "5f9641507d4b4d24a80d3b84fa1766a2",
       "version_major": 2,
       "version_minor": 0
      },
      "text/plain": [
       "Ep 6:   0%|          | 0/20 [00:00<?, ?it/s]"
      ]
     },
     "metadata": {},
     "output_type": "display_data"
    },
    {
     "data": {
      "application/vnd.jupyter.widget-view+json": {
       "model_id": "46ec2ac208d445d68b81fbd62ee55502",
       "version_major": 2,
       "version_minor": 0
      },
      "text/plain": [
       "Ep 7:   0%|          | 0/27 [00:00<?, ?it/s]"
      ]
     },
     "metadata": {},
     "output_type": "display_data"
    }
   ],
   "source": [
    "episode_ranks = []\n",
    "\n",
    "def remove_confidence(G_, node):\n",
    "    G = G_.copy()\n",
    "    G.remove_node(node)\n",
    "    G = nx.subgraph(G, max(nx.connected_components(G), key=len))\n",
    "    remove_stats = pd.DataFrame()\n",
    "    for stat, value in get_stats(G).items():\n",
    "        remove_stats.loc[i+1, f'{stat}'] = value\n",
    "    remove_stats = remove_stats.reindex(columns=sorted([c for c in remove_stats.columns], key=lambda x: '_'.join(x.split('_')[1:])))\n",
    "    remove_stats = remove_stats.fillna(0)\n",
    "    X = np.array(remove_stats.values)\n",
    "    X = scaler.transform(X)\n",
    "    confidence = model.predict_proba(X)[0]\n",
    "    return confidence, len(G.nodes), len(G.edges)\n",
    "\n",
    "\n",
    "\n",
    "for i, G in tqdm(enumerate(networks), total=len(networks)):\n",
    "    rank = {}\n",
    "    outcome = stats['outcome'].map(outcome_map).values[i]\n",
    "    base_confidence = model.predict_proba(scaler.transform([stats.iloc[i].values[1:]]))[0][outcome]\n",
    "    node_confidence_importance = []\n",
    "    # node_new_size = {}\n",
    "    for node in tqdm(G.nodes, total=len(G.nodes), leave=True, desc=f'Ep {i+1}'):\n",
    "        confidence, n_nodes, n_edges = remove_confidence(G, node)\n",
    "        node_confidence_importance.append((node, base_confidence - confidence[outcome]))\n",
    "        # node_new_size[node] = (n_nodes, n_edges)\n",
    "    rank['confidence'] = sorted(node_confidence_importance, key=lambda x: x[1], reverse=True)\n",
    "    # rank['original_size'] = (len(G.nodes), len(G.edges))\n",
    "    # rank['outcome'] = stats['outcome'].values[i]\n",
    "    # rank['new_size'] = node_new_size\n",
    "    rank['closeness'] = sorted([(node, nx.closeness_centrality(G)[node]) for node in G.nodes], key=lambda x: x[1], reverse=True)\n",
    "    rank['betweenness'] = sorted([(node, nx.betweenness_centrality(G)[node]) for node in G.nodes], key=lambda x: x[1], reverse=True)\n",
    "    episode_ranks.append(rank)"
   ]
  },
  {
   "cell_type": "code",
   "execution_count": 10,
   "metadata": {},
   "outputs": [],
   "source": [
    "movies = pd.read_pickle('data/kaggle/credits_movie.pkl')\n",
    "\n",
    "episode_to_titleId = ['tt0120915', 'tt0121765', 'tt0121766', 'tt0076759', 'tt0080684', 'tt0086190', 'tt2488496']\n",
    "episode_dates = [movies[movies['imdb_id'] == id]['release_date'].values[0] for id in episode_to_titleId]\n",
    "\n",
    "movie_net = pd.read_pickle('data/kaggle/nets/full.gpickle')"
   ]
  },
  {
   "cell_type": "code",
   "execution_count": 11,
   "metadata": {},
   "outputs": [],
   "source": [
    "from functools import partial\n",
    "\n",
    "episode_networks = []\n",
    "for i, date in enumerate(episode_dates):\n",
    "    ep_net = nx.subgraph_view(\n",
    "        movie_net,\n",
    "        filter_node=partial(lambda x, g, d: g.nodes[x]['date'] <= d, g=movie_net, d=date),\n",
    "        filter_edge=partial(lambda x,y, g, d: g.edges[x,y]['date'] <= d, g=movie_net, d=date)\n",
    "    )\n",
    "    episode_networks.append(ep_net)"
   ]
  },
  {
   "cell_type": "code",
   "execution_count": null,
   "metadata": {},
   "outputs": [],
   "source": [
    "roman = {1: 'I', 2: 'II', 3: 'III', 4: 'IV', 5: 'V', 6: 'VI', 7: 'VII'}\n",
    "\n",
    "for i, ep_n in enumerate(episode_networks):\n",
    "    print(f'{roman[i+1]} &', ' & '.join([\n",
    "        str(num_nodes:=len(ep_n.nodes)),\n",
    "        str(len(ep_n.edges)),\n",
    "        str(np.mean(degs:=[d for n, d in tqdm(ep_n.degree(), total=num_nodes)])),\n",
    "        str(np.max(degs)),\n",
    "    ]), '\\\\\\\\\\\\hline')"
   ]
  },
  {
   "cell_type": "code",
   "execution_count": 71,
   "metadata": {},
   "outputs": [
    {
     "data": {
      "text/plain": [
       "((121323, 'Bess Flowers'), 3371)"
      ]
     },
     "execution_count": 71,
     "metadata": {},
     "output_type": "execute_result"
    }
   ],
   "source": [
    "# get the node with the highest degree\n",
    "max(G.degree, key=lambda x: x[1])"
   ]
  },
  {
   "cell_type": "code",
   "execution_count": null,
   "metadata": {},
   "outputs": [],
   "source": [
    "fig, ax = plt.subplots(3, 3, figsize=(15, 15))\n",
    "ax = ax.flatten()\n",
    "\n",
    "for i, ep_n in enumerate(episode_networks):\n",
    "    degree_df = np.unique(sorted([d for _, d in tqdm(ep_n.degree(), total=len(ep_n))]), return_counts=True)\n",
    "    sum_deg = np.sum(degree_df[1])\n",
    "    ax_i = i if i < 6 else 7\n",
    "    ax[ax_i].loglog(degree_df[0], degree_df[1] / sum_deg, '.', label='Original Data')\n",
    "    ax[ax_i].loglog(degree_df[0], 5e1 / degree_df[0]**2.2, label='Fit Line')\n",
    "    ax[ax_i].set_xlabel('Degree k')\n",
    "    ax[ax_i].set_ylabel('$P(X=k)$')\n",
    "    ax[ax_i].set_title(f'Episode {roman[i+1]}')\n",
    "    ax[ax_i].legend()\n",
    "    ax[ax_i].grid()\n",
    "\n",
    "fig.tight_layout()\n",
    "fig.delaxes(ax[6])\n",
    "fig.delaxes(ax[8])\n",
    "\n",
    "fig.show()"
   ]
  },
  {
   "cell_type": "code",
   "execution_count": 44,
   "metadata": {},
   "outputs": [
    {
     "ename": "KeyboardInterrupt",
     "evalue": "",
     "output_type": "error",
     "traceback": [
      "\u001b[0;31m---------------------------------------------------------------------------\u001b[0m",
      "\u001b[0;31mKeyboardInterrupt\u001b[0m                         Traceback (most recent call last)",
      "\u001b[1;32m/Users/mike/star wars/importance.ipynb Cell 14\u001b[0m in \u001b[0;36m<cell line: 25>\u001b[0;34m()\u001b[0m\n\u001b[1;32m     <a href='vscode-notebook-cell:/Users/mike/star%20wars/importance.ipynb#X62sZmlsZQ%3D%3D?line=21'>22</a>\u001b[0m \u001b[39mfrom\u001b[39;00m \u001b[39mconcurrent\u001b[39;00m\u001b[39m.\u001b[39;00m\u001b[39mfutures\u001b[39;00m \u001b[39mimport\u001b[39;00m ThreadPoolExecutor\n\u001b[1;32m     <a href='vscode-notebook-cell:/Users/mike/star%20wars/importance.ipynb#X62sZmlsZQ%3D%3D?line=23'>24</a>\u001b[0m movie_rank_futures \u001b[39m=\u001b[39m []\n\u001b[0;32m---> <a href='vscode-notebook-cell:/Users/mike/star%20wars/importance.ipynb#X62sZmlsZQ%3D%3D?line=24'>25</a>\u001b[0m \u001b[39mwith\u001b[39;00m ThreadPoolExecutor(max_workers\u001b[39m=\u001b[39m\u001b[39m7\u001b[39m) \u001b[39mas\u001b[39;00m executor:\n\u001b[1;32m     <a href='vscode-notebook-cell:/Users/mike/star%20wars/importance.ipynb#X62sZmlsZQ%3D%3D?line=25'>26</a>\u001b[0m     \u001b[39mfor\u001b[39;00m episode, G \u001b[39min\u001b[39;00m \u001b[39menumerate\u001b[39m(episode_networks):\n\u001b[1;32m     <a href='vscode-notebook-cell:/Users/mike/star%20wars/importance.ipynb#X62sZmlsZQ%3D%3D?line=26'>27</a>\u001b[0m         movie_rank_futures\u001b[39m.\u001b[39mappend(executor\u001b[39m.\u001b[39msubmit(get_ranking, episode, G))\n",
      "File \u001b[0;32m~/.pyenv/versions/3.10.2/lib/python3.10/concurrent/futures/_base.py:637\u001b[0m, in \u001b[0;36mExecutor.__exit__\u001b[0;34m(self, exc_type, exc_val, exc_tb)\u001b[0m\n\u001b[1;32m    636\u001b[0m \u001b[39mdef\u001b[39;00m \u001b[39m__exit__\u001b[39m(\u001b[39mself\u001b[39m, exc_type, exc_val, exc_tb):\n\u001b[0;32m--> 637\u001b[0m     \u001b[39mself\u001b[39;49m\u001b[39m.\u001b[39;49mshutdown(wait\u001b[39m=\u001b[39;49m\u001b[39mTrue\u001b[39;49;00m)\n\u001b[1;32m    638\u001b[0m     \u001b[39mreturn\u001b[39;00m \u001b[39mFalse\u001b[39;00m\n",
      "File \u001b[0;32m~/.pyenv/versions/3.10.2/lib/python3.10/concurrent/futures/thread.py:235\u001b[0m, in \u001b[0;36mThreadPoolExecutor.shutdown\u001b[0;34m(self, wait, cancel_futures)\u001b[0m\n\u001b[1;32m    233\u001b[0m \u001b[39mif\u001b[39;00m wait:\n\u001b[1;32m    234\u001b[0m     \u001b[39mfor\u001b[39;00m t \u001b[39min\u001b[39;00m \u001b[39mself\u001b[39m\u001b[39m.\u001b[39m_threads:\n\u001b[0;32m--> 235\u001b[0m         t\u001b[39m.\u001b[39;49mjoin()\n",
      "File \u001b[0;32m~/.pyenv/versions/3.10.2/lib/python3.10/threading.py:1089\u001b[0m, in \u001b[0;36mThread.join\u001b[0;34m(self, timeout)\u001b[0m\n\u001b[1;32m   1086\u001b[0m     \u001b[39mraise\u001b[39;00m \u001b[39mRuntimeError\u001b[39;00m(\u001b[39m\"\u001b[39m\u001b[39mcannot join current thread\u001b[39m\u001b[39m\"\u001b[39m)\n\u001b[1;32m   1088\u001b[0m \u001b[39mif\u001b[39;00m timeout \u001b[39mis\u001b[39;00m \u001b[39mNone\u001b[39;00m:\n\u001b[0;32m-> 1089\u001b[0m     \u001b[39mself\u001b[39;49m\u001b[39m.\u001b[39;49m_wait_for_tstate_lock()\n\u001b[1;32m   1090\u001b[0m \u001b[39melse\u001b[39;00m:\n\u001b[1;32m   1091\u001b[0m     \u001b[39m# the behavior of a negative timeout isn't documented, but\u001b[39;00m\n\u001b[1;32m   1092\u001b[0m     \u001b[39m# historically .join(timeout=x) for x<0 has acted as if timeout=0\u001b[39;00m\n\u001b[1;32m   1093\u001b[0m     \u001b[39mself\u001b[39m\u001b[39m.\u001b[39m_wait_for_tstate_lock(timeout\u001b[39m=\u001b[39m\u001b[39mmax\u001b[39m(timeout, \u001b[39m0\u001b[39m))\n",
      "File \u001b[0;32m~/.pyenv/versions/3.10.2/lib/python3.10/threading.py:1109\u001b[0m, in \u001b[0;36mThread._wait_for_tstate_lock\u001b[0;34m(self, block, timeout)\u001b[0m\n\u001b[1;32m   1106\u001b[0m     \u001b[39mreturn\u001b[39;00m\n\u001b[1;32m   1108\u001b[0m \u001b[39mtry\u001b[39;00m:\n\u001b[0;32m-> 1109\u001b[0m     \u001b[39mif\u001b[39;00m lock\u001b[39m.\u001b[39;49macquire(block, timeout):\n\u001b[1;32m   1110\u001b[0m         lock\u001b[39m.\u001b[39mrelease()\n\u001b[1;32m   1111\u001b[0m         \u001b[39mself\u001b[39m\u001b[39m.\u001b[39m_stop()\n",
      "\u001b[0;31mKeyboardInterrupt\u001b[0m: "
     ]
    }
   ],
   "source": [
    "import time\n",
    "\n",
    "def get_ranking(episode, G):\n",
    "    movie_ep = movies[movies.imdb_id == episode_to_titleId[episode]]\n",
    "    characters = {c['character']: (c['id'], c['name']) for c in movie_ep.cast.values[0]}\n",
    "    episode_characters = {k:characters[v] for k,v in name_mappings[episode].items() if v in characters}\n",
    "\n",
    "    # movie_rank_closeness = sorted([(k, nx.closeness_centrality(G, u=v)) for k,v in tqdm(episode_characters.items(), total=len(episode_characters), leave=True, desc=f'Ep {episode+1}')], key=lambda x: x[1], reverse=True)\n",
    "    start = time.time()\n",
    "    betweenness = nx.betweenness_centrality(G, k=1000, normalized=False, seed=42)\n",
    "    # betweenness = nx.betweenness_centrality(G, k=1, normalized=False, seed=42)\n",
    "    print(f'Ep {roman[episode+1]} - {time.time() - start}')\n",
    "    movie_rank_betweenness = sorted([(k, betweenness[v]) for k,v in episode_characters.items()], key=lambda x: x[1], reverse=True)\n",
    "\n",
    "    return episode, {\n",
    "        # 'closeness': movie_rank_closeness,\n",
    "        'betweenness': movie_rank_betweenness\n",
    "    }\n",
    "\n",
    "\n",
    "\n",
    "from concurrent.futures import ThreadPoolExecutor\n",
    "\n",
    "movie_rank_futures = []\n",
    "with ThreadPoolExecutor(max_workers=7) as executor:\n",
    "    for episode, G in enumerate(episode_networks):\n",
    "        movie_rank_futures.append(executor.submit(get_ranking, episode, G))\n",
    "movie_rank_results = sorted([f.result() for f in movie_rank_futures], key=lambda x: x[0])\n",
    "\n",
    "import pickle\n",
    "movie_ranks = [{'closeness':r['closeness']} for r in pickle.load(open('movie_ranks.pkl', 'rb'))]\n",
    "\n",
    "for episode, rank_results in movie_rank_results:\n",
    "    for rank_type, rank in rank_results.items():\n",
    "        movie_ranks[episode][rank_type] = rank"
   ]
  },
  {
   "cell_type": "code",
   "execution_count": 37,
   "metadata": {},
   "outputs": [],
   "source": [
    "base_episode_metric = 'confidence'"
   ]
  },
  {
   "cell_type": "code",
   "execution_count": 38,
   "metadata": {},
   "outputs": [
    {
     "data": {
      "text/html": [
       "<div>\n",
       "<style scoped>\n",
       "    .dataframe tbody tr th:only-of-type {\n",
       "        vertical-align: middle;\n",
       "    }\n",
       "\n",
       "    .dataframe tbody tr th {\n",
       "        vertical-align: top;\n",
       "    }\n",
       "\n",
       "    .dataframe thead th {\n",
       "        text-align: right;\n",
       "    }\n",
       "</style>\n",
       "<table border=\"1\" class=\"dataframe\">\n",
       "  <thead>\n",
       "    <tr style=\"text-align: right;\">\n",
       "      <th></th>\n",
       "      <th>Kendall tau closeness/confidence</th>\n",
       "      <th>Kendall p closeness/confidence</th>\n",
       "      <th>Spearman rho closeness/confidence</th>\n",
       "      <th>Spearman p closeness/confidence</th>\n",
       "    </tr>\n",
       "  </thead>\n",
       "  <tbody>\n",
       "    <tr>\n",
       "      <th>Episode I</th>\n",
       "      <td>-0.083779</td>\n",
       "      <td>0.498190</td>\n",
       "      <td>-0.141024</td>\n",
       "      <td>0.426304</td>\n",
       "    </tr>\n",
       "    <tr>\n",
       "      <th>Episode II</th>\n",
       "      <td>0.037037</td>\n",
       "      <td>0.799177</td>\n",
       "      <td>0.060208</td>\n",
       "      <td>0.760868</td>\n",
       "    </tr>\n",
       "    <tr>\n",
       "      <th>Episode III</th>\n",
       "      <td>-0.047619</td>\n",
       "      <td>0.788420</td>\n",
       "      <td>-0.144156</td>\n",
       "      <td>0.533006</td>\n",
       "    </tr>\n",
       "    <tr>\n",
       "      <th>Episode IV</th>\n",
       "      <td>-0.111111</td>\n",
       "      <td>0.549812</td>\n",
       "      <td>-0.149639</td>\n",
       "      <td>0.553423</td>\n",
       "    </tr>\n",
       "    <tr>\n",
       "      <th>Episode V</th>\n",
       "      <td>-0.038095</td>\n",
       "      <td>0.834682</td>\n",
       "      <td>-0.077922</td>\n",
       "      <td>0.737075</td>\n",
       "    </tr>\n",
       "    <tr>\n",
       "      <th>Episode VI</th>\n",
       "      <td>-0.021053</td>\n",
       "      <td>0.923502</td>\n",
       "      <td>-0.069173</td>\n",
       "      <td>0.771985</td>\n",
       "    </tr>\n",
       "    <tr>\n",
       "      <th>Episode VII</th>\n",
       "      <td>0.027692</td>\n",
       "      <td>0.861456</td>\n",
       "      <td>0.046154</td>\n",
       "      <td>0.822847</td>\n",
       "    </tr>\n",
       "  </tbody>\n",
       "</table>\n",
       "</div>"
      ],
      "text/plain": [
       "             Kendall tau closeness/confidence  Kendall p closeness/confidence  \\\n",
       "Episode I                           -0.083779                        0.498190   \n",
       "Episode II                           0.037037                        0.799177   \n",
       "Episode III                         -0.047619                        0.788420   \n",
       "Episode IV                          -0.111111                        0.549812   \n",
       "Episode V                           -0.038095                        0.834682   \n",
       "Episode VI                          -0.021053                        0.923502   \n",
       "Episode VII                          0.027692                        0.861456   \n",
       "\n",
       "             Spearman rho closeness/confidence  \\\n",
       "Episode I                            -0.141024   \n",
       "Episode II                            0.060208   \n",
       "Episode III                          -0.144156   \n",
       "Episode IV                           -0.149639   \n",
       "Episode V                            -0.077922   \n",
       "Episode VI                           -0.069173   \n",
       "Episode VII                           0.046154   \n",
       "\n",
       "             Spearman p closeness/confidence  \n",
       "Episode I                           0.426304  \n",
       "Episode II                          0.760868  \n",
       "Episode III                         0.533006  \n",
       "Episode IV                          0.553423  \n",
       "Episode V                           0.737075  \n",
       "Episode VI                          0.771985  \n",
       "Episode VII                         0.822847  "
      ]
     },
     "execution_count": 38,
     "metadata": {},
     "output_type": "execute_result"
    }
   ],
   "source": [
    "from scipy.stats import kendalltau, spearmanr\n",
    "\n",
    "def get_correlation(rank, base):\n",
    "    tau, p_tau = kendalltau([r[0] for r in rank], [r[0] for r in base], method='exact')\n",
    "    rho, p_rho = spearmanr([r[0] for r in rank], [r[0] for r in base])\n",
    "\n",
    "    return tau, p_tau, rho, p_rho\n",
    "\n",
    "correlations = pd.DataFrame()\n",
    "for episode, rank in enumerate(movie_ranks):\n",
    "    movie_ep = movies[movies.imdb_id == episode_to_titleId[episode]]\n",
    "    characters = {c['character']: (c['id'], c['name']) for c in movie_ep.cast.values[0]}\n",
    "    episode_characters = {k:characters[v] for k,v in name_mappings[episode].items() if v in characters}\n",
    "    base = [c for c in episode_ranks[episode][base_episode_metric] if c[0] in episode_characters]\n",
    "    for metric in movie_ranks[0].keys():\n",
    "        tau, p_tau, rho, p_rho = get_correlation(rank[metric], base)\n",
    "        correlations.loc[f'Episode {roman[episode+1]}', f'Kendall tau {metric}/{base_episode_metric}'] = tau\n",
    "        correlations.loc[f'Episode {roman[episode+1]}', f'Kendall p {metric}/{base_episode_metric}'] = p_tau\n",
    "        correlations.loc[f'Episode {roman[episode+1]}', f'Spearman rho {metric}/{base_episode_metric}'] = rho\n",
    "        correlations.loc[f'Episode {roman[episode+1]}', f'Spearman p {metric}/{base_episode_metric}'] = p_rho\n",
    "\n",
    "correlations"
   ]
  },
  {
   "cell_type": "code",
   "execution_count": 39,
   "metadata": {},
   "outputs": [
    {
     "data": {
      "text/html": [
       "<div>\n",
       "<style scoped>\n",
       "    .dataframe tbody tr th:only-of-type {\n",
       "        vertical-align: middle;\n",
       "    }\n",
       "\n",
       "    .dataframe tbody tr th {\n",
       "        vertical-align: top;\n",
       "    }\n",
       "\n",
       "    .dataframe thead th {\n",
       "        text-align: right;\n",
       "    }\n",
       "</style>\n",
       "<table border=\"1\" class=\"dataframe\">\n",
       "  <thead>\n",
       "    <tr style=\"text-align: right;\">\n",
       "      <th></th>\n",
       "      <th>Kendall tau closeness/confidence</th>\n",
       "      <th>Kendall p closeness/confidence</th>\n",
       "      <th>Spearman rho closeness/confidence</th>\n",
       "      <th>Spearman p closeness/confidence</th>\n",
       "    </tr>\n",
       "  </thead>\n",
       "  <tbody>\n",
       "    <tr>\n",
       "      <th>Episode I</th>\n",
       "      <td>0.0</td>\n",
       "      <td>1.000000</td>\n",
       "      <td>-0.1</td>\n",
       "      <td>0.872889</td>\n",
       "    </tr>\n",
       "    <tr>\n",
       "      <th>Episode II</th>\n",
       "      <td>0.2</td>\n",
       "      <td>0.816667</td>\n",
       "      <td>0.0</td>\n",
       "      <td>1.000000</td>\n",
       "    </tr>\n",
       "    <tr>\n",
       "      <th>Episode III</th>\n",
       "      <td>-0.6</td>\n",
       "      <td>0.233333</td>\n",
       "      <td>-0.7</td>\n",
       "      <td>0.188120</td>\n",
       "    </tr>\n",
       "    <tr>\n",
       "      <th>Episode IV</th>\n",
       "      <td>0.0</td>\n",
       "      <td>1.000000</td>\n",
       "      <td>0.0</td>\n",
       "      <td>1.000000</td>\n",
       "    </tr>\n",
       "    <tr>\n",
       "      <th>Episode V</th>\n",
       "      <td>0.0</td>\n",
       "      <td>1.000000</td>\n",
       "      <td>0.1</td>\n",
       "      <td>0.872889</td>\n",
       "    </tr>\n",
       "    <tr>\n",
       "      <th>Episode VI</th>\n",
       "      <td>0.8</td>\n",
       "      <td>0.083333</td>\n",
       "      <td>0.9</td>\n",
       "      <td>0.037386</td>\n",
       "    </tr>\n",
       "    <tr>\n",
       "      <th>Episode VII</th>\n",
       "      <td>0.0</td>\n",
       "      <td>1.000000</td>\n",
       "      <td>-0.1</td>\n",
       "      <td>0.872889</td>\n",
       "    </tr>\n",
       "  </tbody>\n",
       "</table>\n",
       "</div>"
      ],
      "text/plain": [
       "             Kendall tau closeness/confidence  Kendall p closeness/confidence  \\\n",
       "Episode I                                 0.0                        1.000000   \n",
       "Episode II                                0.2                        0.816667   \n",
       "Episode III                              -0.6                        0.233333   \n",
       "Episode IV                                0.0                        1.000000   \n",
       "Episode V                                 0.0                        1.000000   \n",
       "Episode VI                                0.8                        0.083333   \n",
       "Episode VII                               0.0                        1.000000   \n",
       "\n",
       "             Spearman rho closeness/confidence  \\\n",
       "Episode I                                 -0.1   \n",
       "Episode II                                 0.0   \n",
       "Episode III                               -0.7   \n",
       "Episode IV                                 0.0   \n",
       "Episode V                                  0.1   \n",
       "Episode VI                                 0.9   \n",
       "Episode VII                               -0.1   \n",
       "\n",
       "             Spearman p closeness/confidence  \n",
       "Episode I                           0.872889  \n",
       "Episode II                          1.000000  \n",
       "Episode III                         0.188120  \n",
       "Episode IV                          1.000000  \n",
       "Episode V                           0.872889  \n",
       "Episode VI                          0.037386  \n",
       "Episode VII                         0.872889  "
      ]
     },
     "execution_count": 39,
     "metadata": {},
     "output_type": "execute_result"
    }
   ],
   "source": [
    "top_correlations = pd.DataFrame()\n",
    "top_n = 5\n",
    "for episode, rank in enumerate(movie_ranks):\n",
    "    movie_ep = movies[movies.imdb_id == episode_to_titleId[episode]]\n",
    "    characters = {c['character']: (c['id'], c['name']) for c in movie_ep.cast.values[0]}\n",
    "    episode_characters = {k:characters[v] for k,v in name_mappings[episode].items() if v in characters}\n",
    "    base = [c for c in episode_ranks[episode][base_episode_metric] if c[0] in episode_characters]\n",
    "    for metric in movie_ranks[0].keys():\n",
    "        tau, p_tau, rho, p_rho = get_correlation(rank[metric][:top_n], base[:top_n])\n",
    "        top_correlations.loc[f'Episode {roman[episode+1]}', f'Kendall tau {metric}/{base_episode_metric}'] = tau\n",
    "        top_correlations.loc[f'Episode {roman[episode+1]}', f'Kendall p {metric}/{base_episode_metric}'] = p_tau\n",
    "        top_correlations.loc[f'Episode {roman[episode+1]}', f'Spearman rho {metric}/{base_episode_metric}'] = rho\n",
    "        top_correlations.loc[f'Episode {roman[episode+1]}', f'Spearman p {metric}/{base_episode_metric}'] = p_rho\n",
    "\n",
    "top_correlations"
   ]
  },
  {
   "cell_type": "code",
   "execution_count": null,
   "metadata": {},
   "outputs": [],
   "source": []
  }
 ],
 "metadata": {
  "kernelspec": {
   "display_name": "dev",
   "language": "python",
   "name": "python3"
  },
  "language_info": {
   "codemirror_mode": {
    "name": "ipython",
    "version": 3
   },
   "file_extension": ".py",
   "mimetype": "text/x-python",
   "name": "python",
   "nbconvert_exporter": "python",
   "pygments_lexer": "ipython3",
   "version": "3.10.2"
  },
  "orig_nbformat": 4,
  "vscode": {
   "interpreter": {
    "hash": "56c834e9f2f29bf928851a9e21c258c5f911f60c6786dcefca87fe83f9ef38b3"
   }
  }
 },
 "nbformat": 4,
 "nbformat_minor": 2
}
